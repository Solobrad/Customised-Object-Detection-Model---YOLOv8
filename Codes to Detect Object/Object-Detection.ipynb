{
 "cells": [
  {
   "cell_type": "code",
   "execution_count": 1,
   "metadata": {},
   "outputs": [],
   "source": [
    "import os\n",
    "from ultralytics import YOLO\n",
    "from roboflow import Roboflow\n",
    "from IPython.display import Image, display\n",
    "from PIL import Image as PILImage\n",
    "import matplotlib.pyplot as plt\n",
    "import subprocess\n",
    "from dotenv import load_dotenv\n",
    "import glob\n",
    "import cv2"
   ]
  },
  {
   "cell_type": "markdown",
   "metadata": {},
   "source": [
    "# Loading original YOLOv8 model"
   ]
  },
  {
   "cell_type": "code",
   "execution_count": 2,
   "metadata": {},
   "outputs": [],
   "source": [
    "model_path = 'yolov8n.pt'  # Path to your YOLOv8 model\n",
    "predict_image_path = 'Inputs/pills_1.jpg'  # Image URL\n",
    "output_image_path = 'yolov8 Outputs/predicted_image3.jpg' \n"
   ]
  },
  {
   "cell_type": "code",
   "execution_count": 29,
   "metadata": {},
   "outputs": [
    {
     "name": "stderr",
     "output_type": "stream",
     "text": [
      "You are using `torch.load` with `weights_only=False` (the current default value), which uses the default pickle module implicitly. It is possible to construct malicious pickle data which will execute arbitrary code during unpickling (See https://github.com/pytorch/pytorch/blob/main/SECURITY.md#untrusted-models for more details). In a future release, the default value for `weights_only` will be flipped to `True`. This limits the functions that could be executed during unpickling. Arbitrary objects will no longer be allowed to be loaded via this mode unless they are explicitly allowlisted by the user via `torch.serialization.add_safe_globals`. We recommend you start setting `weights_only=True` for any use case where you don't have full control of the loaded file. Please open an issue on GitHub for any issues related to this experimental feature.\n",
      "\n",
      "image 1/1 c:\\Users\\ASUS\\Desktop\\AI\\Object-Detection---Yolov3\\Codes to Detect Object\\Inputs\\pills_1.jpg: 640x448 1 remote, 123.0ms\n",
      "Speed: 2.4ms preprocess, 123.0ms inference, 1.0ms postprocess per image at shape (1, 3, 640, 448)\n"
     ]
    }
   ],
   "source": [
    "# Load YOLOv8 model\n",
    "model = YOLO(model_path)\n",
    "\n",
    "# Perform prediction\n",
    "results = model.predict(source=predict_image_path, conf=0.25)\n",
    "\n",
    "# Get the plotted result as a numpy array\n",
    "output_image_array = results[0].plot()  \n",
    "\n",
    "# Convert BGR to RGB\n",
    "output_image_array = cv2.cvtColor(output_image_array, cv2.COLOR_BGR2RGB)\n",
    "\n",
    "# Convert the numpy array to a PIL image\n",
    "output_image = PILImage.fromarray(output_image_array)\n",
    "\n",
    "# Ensure the output directory exists\n",
    "os.makedirs(os.path.dirname(output_image_path), exist_ok=True)\n",
    "\n",
    "# Save the image\n",
    "output_image.save(output_image_path)\n",
    "\n",
    "# Display the result\n",
    "output_image.show()"
   ]
  },
  {
   "cell_type": "markdown",
   "metadata": {},
   "source": [
    "# Loading Customised Model"
   ]
  },
  {
   "cell_type": "code",
   "execution_count": 3,
   "metadata": {},
   "outputs": [],
   "source": [
    "custom_model_path = 'best.pt'\n",
    "predict_image_path = 'Inputs/pills_1.jpg'  # Image URL\n",
    "custom_model_outputs = 'Custom Outputs/predicted_image4.jpg'"
   ]
  },
  {
   "cell_type": "code",
   "execution_count": 4,
   "metadata": {},
   "outputs": [
    {
     "name": "stderr",
     "output_type": "stream",
     "text": [
      "You are using `torch.load` with `weights_only=False` (the current default value), which uses the default pickle module implicitly. It is possible to construct malicious pickle data which will execute arbitrary code during unpickling (See https://github.com/pytorch/pytorch/blob/main/SECURITY.md#untrusted-models for more details). In a future release, the default value for `weights_only` will be flipped to `True`. This limits the functions that could be executed during unpickling. Arbitrary objects will no longer be allowed to be loaded via this mode unless they are explicitly allowlisted by the user via `torch.serialization.add_safe_globals`. We recommend you start setting `weights_only=True` for any use case where you don't have full control of the loaded file. Please open an issue on GitHub for any issues related to this experimental feature.\n",
      "\n",
      "image 1/1 e:\\AI Projects\\Object-Detection---Yolov8\\Codes to Detect Object\\Inputs\\pills_1.jpg: 640x448 12 Medicine-Pillss, 100.8ms\n",
      "Speed: 2.9ms preprocess, 100.8ms inference, 1.0ms postprocess per image at shape (1, 3, 640, 448)\n"
     ]
    }
   ],
   "source": [
    "# Load YOLOv8 model\n",
    "model = YOLO(custom_model_path)\n",
    "\n",
    "# Perform prediction\n",
    "results = model.predict(source=predict_image_path, conf=0.4)\n",
    "\n",
    "# Get the plotted result as a numpy array\n",
    "output_image_array = results[0].plot(labels=False)\n",
    "\n",
    "# Convert BGR to RGB\n",
    "output_image_array = cv2.cvtColor(output_image_array, cv2.COLOR_BGR2RGB)\n",
    "\n",
    "# Convert the numpy array to a PIL image\n",
    "output_image = PILImage.fromarray(output_image_array)\n",
    "\n",
    "# Ensure the output directory exists\n",
    "os.makedirs(os.path.dirname(custom_model_outputs), exist_ok=True)\n",
    "\n",
    "# Save the image\n",
    "output_image.save(custom_model_outputs)\n",
    "\n",
    "# Display the result\n",
    "output_image.show()"
   ]
  },
  {
   "cell_type": "code",
   "execution_count": null,
   "metadata": {},
   "outputs": [],
   "source": []
  }
 ],
 "metadata": {
  "kernelspec": {
   "display_name": "venv",
   "language": "python",
   "name": "python3"
  },
  "language_info": {
   "codemirror_mode": {
    "name": "ipython",
    "version": 3
   },
   "file_extension": ".py",
   "mimetype": "text/x-python",
   "name": "python",
   "nbconvert_exporter": "python",
   "pygments_lexer": "ipython3",
   "version": "3.10.4"
  }
 },
 "nbformat": 4,
 "nbformat_minor": 2
}
